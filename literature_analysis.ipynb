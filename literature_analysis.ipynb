{
 "cells": [
  {
   "cell_type": "markdown",
   "metadata": {},
   "source": [
    "# Imports"
   ]
  },
  {
   "cell_type": "code",
   "execution_count": null,
   "metadata": {},
   "outputs": [],
   "source": [
    "# %matplotlib notebook\n",
    "%matplotlib inline\n",
    "\n",
    "import litstudy.plot\n",
    "import litstudy.common\n",
    "import litstudy.search\n",
    "import litstudy.nlp\n",
    "\n",
    "from importlib import reload\n",
    "\n",
    "# import logging\n",
    "# logging.getLogger().setLevel(logging.INFO)\n",
    "\n",
    "# One-time scopus configuration file setup\n",
    "# pybliometrics.scopus.utils.create_config()"
   ]
  },
  {
   "cell_type": "markdown",
   "metadata": {},
   "source": [
    "# Parameters"
   ]
  },
  {
   "cell_type": "code",
   "execution_count": null,
   "metadata": {},
   "outputs": [],
   "source": [
    "scopus_query = 'title-abs-key(\"predictive maintenance\" AND \"deep learning\")'\n",
    "dblp_query = '\"predictive maintenance\" AND \"deep learning\"'"
   ]
  },
  {
   "cell_type": "markdown",
   "metadata": {},
   "source": [
    "# Plot statistics"
   ]
  },
  {
   "cell_type": "code",
   "execution_count": null,
   "metadata": {},
   "outputs": [],
   "source": [
    "reload(litstudy.plot)\n",
    "reload(litstudy.common)\n",
    "reload(litstudy.search)\n",
    "reload(litstudy.nlp)\n",
    "\n",
    "docset = litstudy.search.search_scopus(scopus_query)\n",
    "docset = litstudy.search.search_dblp(dblp_query, docset)\n",
    "# docset = litstudy.search.search_mockup()\n",
    "\n",
    "litstudy.plot.plot_author_affiliation_histogram(docset)\n",
    "litstudy.plot.plot_author_histogram(docset)\n",
    "litstudy.plot.plot_year_histogram(docset)\n",
    "litstudy.plot.plot_source_type_histogram(docset)\n",
    "litstudy.plot.plot_number_authors_histogram(docset)\n",
    "litstudy.plot.plot_source_histogram(docset)\n",
    "litstudy.plot.plot_affiliation_histogram(docset)\n",
    "litstudy.plot.plot_country_histogram(docset)\n",
    "litstudy.plot.plot_affiliation_type_histogram(docset)\n",
    "litstudy.plot.plot_language_histogram(docset)"
   ]
  },
  {
   "cell_type": "markdown",
   "metadata": {},
   "source": [
    "# Train topic models"
   ]
  },
  {
   "cell_type": "code",
   "execution_count": null,
   "metadata": {},
   "outputs": [],
   "source": [
    "reload(litstudy.nlp)\n",
    "reload(litstudy.plot)\n",
    "dic, freqs = litstudy.nlp.build_corpus_simple(docset)\n",
    "\n",
    "# nmf_model = litstudy.nlp.train_nmf_model(dic, freqs, num_topics=4, passes=500)\n",
    "nmf_model = litstudy.nlp.train_nmf_model(dic, freqs, num_topics=4)\n",
    "lda_model = litstudy.nlp.train_lda_model(dic, freqs, num_topics=4)"
   ]
  },
  {
   "cell_type": "markdown",
   "metadata": {},
   "source": [
    "# Plot frequent words, topic clouds and distribution"
   ]
  },
  {
   "cell_type": "code",
   "execution_count": null,
   "metadata": {},
   "outputs": [],
   "source": [
    "reload(litstudy.nlp)\n",
    "reload(litstudy.plot)\n",
    "\n",
    "litstudy.plot.plot_words_histogram(freqs, dic)\n",
    "\n",
    "litstudy.plot.plot_topic_clouds(nmf_model)\n",
    "litstudy.plot.plot_topic_clouds(lda_model)\n",
    "\n",
    "litstudy.plot.plot_topic_map(nmf_model, dic, freqs)\n",
    "litstudy.plot.plot_topic_map(lda_model, dic, freqs)"
   ]
  },
  {
   "cell_type": "code",
   "execution_count": null,
   "metadata": {},
   "outputs": [],
   "source": []
  }
 ],
 "metadata": {
  "kernelspec": {
   "display_name": "myenv",
   "language": "python",
   "name": "myenv"
  },
  "language_info": {
   "codemirror_mode": {
    "name": "ipython",
    "version": 3
   },
   "file_extension": ".py",
   "mimetype": "text/x-python",
   "name": "python",
   "nbconvert_exporter": "python",
   "pygments_lexer": "ipython3",
   "version": "3.6.8"
  }
 },
 "nbformat": 4,
 "nbformat_minor": 2
}
